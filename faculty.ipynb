{
 "cells": [
  {
   "cell_type": "markdown",
   "id": "daad307b",
   "metadata": {},
   "source": [
    "Einfache Fakultätsfunktion\n"
   ]
  },
  {
   "cell_type": "code",
   "execution_count": 2,
   "id": "8cea1ec9",
   "metadata": {},
   "outputs": [
    {
     "name": "stdout",
     "output_type": "stream",
     "text": [
      "1\n",
      "120\n",
      "3628800\n"
     ]
    }
   ],
   "source": [
    "def factorial(n: int) -> int:\n",
    "    \"\"\"Berechnet n! für n >= 0.\"\"\"\n",
    "    if not isinstance(n, int):\n",
    "        raise TypeError(\"n muss ein Integer sein\")\n",
    "    if n < 0:\n",
    "        raise ValueError(\"n muss >= 0 sein\")\n",
    "\n",
    "    result = 1\n",
    "    for k in range(2, n + 1):\n",
    "        result *= k\n",
    "    return result\n",
    "\n",
    "# Beispielaufrufe:\n",
    "print(factorial(0))   # 1\n",
    "print(factorial(5))   # 120\n",
    "print(factorial(10))  # 3628800\n"
   ]
  }
 ],
 "metadata": {
  "kernelspec": {
   "display_name": "Python 3",
   "language": "python",
   "name": "python3"
  },
  "language_info": {
   "codemirror_mode": {
    "name": "ipython",
    "version": 3
   },
   "file_extension": ".py",
   "mimetype": "text/x-python",
   "name": "python",
   "nbconvert_exporter": "python",
   "pygments_lexer": "ipython3",
   "version": "3.12.1"
  }
 },
 "nbformat": 4,
 "nbformat_minor": 5
}
